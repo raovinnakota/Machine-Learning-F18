{
 "cells": [
  {
   "cell_type": "markdown",
   "metadata": {},
   "source": [
    "## The Problems worked out here are the problems from the appendix [here](https://moodle.bard.edu/pluginfile.php/139233/course/section/36781/MarslandAppendixA.pdf)"
   ]
  },
  {
   "cell_type": "markdown",
   "metadata": {},
   "source": [
    "## Problem A1: \n",
    "Create an array *a* of size 6 x 4 where every element is a 2"
   ]
  },
  {
   "cell_type": "code",
   "execution_count": 2,
   "metadata": {},
   "outputs": [
    {
     "name": "stdout",
     "output_type": "stream",
     "text": [
      "[[2 2 2 2]\n",
      " [2 2 2 2]\n",
      " [2 2 2 2]\n",
      " [2 2 2 2]\n",
      " [2 2 2 2]\n",
      " [2 2 2 2]]\n"
     ]
    }
   ],
   "source": [
    "import numpy as np\n",
    "a = np.full((6,4), 2)\n",
    "print(a)"
   ]
  },
  {
   "cell_type": "markdown",
   "metadata": {},
   "source": [
    "## Problem A2\n",
    "Create an array *b* of size 6x4 that has 3 on the leading diagonal and 1 everywhere else. "
   ]
  },
  {
   "cell_type": "code",
   "execution_count": 4,
   "metadata": {},
   "outputs": [
    {
     "name": "stdout",
     "output_type": "stream",
     "text": [
      "[[3 1 1 1]\n",
      " [1 3 1 1]\n",
      " [1 1 3 1]\n",
      " [1 1 1 3]\n",
      " [1 1 1 1]\n",
      " [1 1 1 1]]\n"
     ]
    }
   ],
   "source": [
    "b = np.full((6,4), 1) #create 6x4 filled with 1's\n",
    "np.fill_diagonal(b, 3) #adjust leading diagonals to include 3\n",
    "print(b)"
   ]
  },
  {
   "cell_type": "markdown",
   "metadata": {},
   "source": [
    "## Problem A3\n",
    "Can you multiply these cells together? Why does a\\*b work, but not dot(a,b)?"
   ]
  },
  {
   "cell_type": "code",
   "execution_count": 8,
   "metadata": {},
   "outputs": [
    {
     "name": "stdout",
     "output_type": "stream",
     "text": [
      "[[6 2 2 2]\n",
      " [2 6 2 2]\n",
      " [2 2 6 2]\n",
      " [2 2 2 6]\n",
      " [2 2 2 2]\n",
      " [2 2 2 2]]\n"
     ]
    }
   ],
   "source": [
    "a*b\n",
    "print(a * b)"
   ]
  },
  {
   "cell_type": "markdown",
   "metadata": {},
   "source": [
    "Doing the operation a\\*b multiplies the contents of the two vectors. Using the dot function applies matrix multiplication, which only works if a had the same number of columns as b does rows"
   ]
  },
  {
   "cell_type": "markdown",
   "metadata": {},
   "source": [
    "## Problem A4\n",
    "Compute `dot(a.transpose(), b)` and `dot(a, b.transpose())`. Why are the results different shapes"
   ]
  },
  {
   "cell_type": "code",
   "execution_count": 12,
   "metadata": {},
   "outputs": [
    {
     "name": "stdout",
     "output_type": "stream",
     "text": [
      "[[16 16 16 16]\n",
      " [16 16 16 16]\n",
      " [16 16 16 16]\n",
      " [16 16 16 16]]\n",
      "[[12 12 12 12  8  8]\n",
      " [12 12 12 12  8  8]\n",
      " [12 12 12 12  8  8]\n",
      " [12 12 12 12  8  8]\n",
      " [12 12 12 12  8  8]\n",
      " [12 12 12 12  8  8]]\n"
     ]
    }
   ],
   "source": [
    "print(np.dot(a.transpose(), b))\n",
    "print(np.dot(a, b.transpose()))"
   ]
  },
  {
   "cell_type": "markdown",
   "metadata": {},
   "source": [
    "Both matrices *a* and *b* are 6 x 4. When *a* is transposed, it becomes a 4 x 6 matrix. The product is now a 4 x 4. \n",
    "\n",
    "When *b* is transposed, it becomes a 4 x 6 matrix and *a* stays a 6 x 4. Therefore, the resultant product is a 6 x 6 matrix."
   ]
  },
  {
   "cell_type": "markdown",
   "metadata": {},
   "source": [
    "## Problem A5\n",
    "Write a program that prints some output that you're running"
   ]
  },
  {
   "cell_type": "code",
   "execution_count": 13,
   "metadata": {},
   "outputs": [],
   "source": [
    "def print_some(thing):\n",
    "    print(thing)"
   ]
  },
  {
   "cell_type": "code",
   "execution_count": null,
   "metadata": {},
   "outputs": [],
   "source": []
  }
 ],
 "metadata": {
  "kernelspec": {
   "display_name": "Python 3",
   "language": "python",
   "name": "python3"
  },
  "language_info": {
   "codemirror_mode": {
    "name": "ipython",
    "version": 3
   },
   "file_extension": ".py",
   "mimetype": "text/x-python",
   "name": "python",
   "nbconvert_exporter": "python",
   "pygments_lexer": "ipython3",
   "version": "3.6.5"
  }
 },
 "nbformat": 4,
 "nbformat_minor": 2
}
